{
 "cells": [
  {
   "cell_type": "code",
   "execution_count": 4,
   "id": "478c46d5-9e16-42ef-a26d-3df7fecc7d7b",
   "metadata": {},
   "outputs": [],
   "source": [
    "import pandas as pd"
   ]
  },
  {
   "cell_type": "code",
   "execution_count": 5,
   "id": "d40399ae-9262-42a9-91fb-162ad3cbc438",
   "metadata": {},
   "outputs": [],
   "source": [
    "df = pd.read_csv('Bootcamp Jan 2025 - TOC - Roadmap.csv')"
   ]
  },
  {
   "cell_type": "code",
   "execution_count": 15,
   "id": "82d2b7c3-e380-4c62-a14d-db37e7b5f476",
   "metadata": {},
   "outputs": [
    {
     "data": {
      "text/plain": [
       "34"
      ]
     },
     "execution_count": 15,
     "metadata": {},
     "output_type": "execute_result"
    }
   ],
   "source": [
    "len(list(df.groupby(['#Week', '#Day', 'Date', 'Phase', 'Unit'])))"
   ]
  }
 ],
 "metadata": {
  "kernelspec": {
   "display_name": "Python 3 (ipykernel)",
   "language": "python",
   "name": "python3"
  },
  "language_info": {
   "codemirror_mode": {
    "name": "ipython",
    "version": 3
   },
   "file_extension": ".py",
   "mimetype": "text/x-python",
   "name": "python",
   "nbconvert_exporter": "python",
   "pygments_lexer": "ipython3",
   "version": "3.11.7"
  }
 },
 "nbformat": 4,
 "nbformat_minor": 5
}
