{
 "cells": [
  {
   "cell_type": "code",
   "execution_count": 4,
   "id": "478c46d5-9e16-42ef-a26d-3df7fecc7d7b",
   "metadata": {},
   "outputs": [],
   "source": [
    "import pandas as pd"
   ]
  },
  {
   "cell_type": "code",
   "execution_count": 5,
   "id": "d40399ae-9262-42a9-91fb-162ad3cbc438",
   "metadata": {},
   "outputs": [],
   "source": [
    "df = pd.read_csv('Bootcamp Jan 2025 - TOC - Roadmap.csv')"
   ]
  },
  {
   "cell_type": "code",
   "execution_count": 16,
   "id": "82d2b7c3-e380-4c62-a14d-db37e7b5f476",
   "metadata": {},
   "outputs": [],
   "source": [
    "t = list(df.groupby(['#Week', '#Day', 'Date', 'Phase', 'Unit']))"
   ]
  },
  {
   "cell_type": "code",
   "execution_count": null,
   "id": "81529363-6e16-410e-bb14-84d556019a0f",
   "metadata": {},
   "outputs": [],
   "source": [
    "for i in t:\n",
    "    day_agenda_df = i[1]\n",
    "    \n",
    "    \n",
    "  "
   ]
  },
  {
   "cell_type": "code",
   "execution_count": null,
   "id": "132af93e-b5e4-475d-af46-4ec3afdbfb02",
   "metadata": {},
   "outputs": [],
   "source": []
  },
  {
   "cell_type": "code",
   "execution_count": null,
   "id": "342b694f-4ca6-45b0-8355-71c40545010c",
   "metadata": {},
   "outputs": [],
   "source": [
    "      if week_no < i[0][0]:\n",
    "            week_no = i[0][0]\n",
    "            phase = i[0][3]\n",
    "            if time == 0:\n",
    "                st.warning(f'## Week {week_no} 🗓 - {phase}')\n",
    "            elif time == 1:\n",
    "                st.success(f'## Week {week_no} 🗓 - {phase}')\n",
    "            else:\n",
    "                st.info(f'## Week {week_no} 🗓 - {phase}')\n",
    "        st.subheader(f'Day {i[0][1]} : {_format_date(i[0][2])}')\n",
    "        unit = day_agenda_df[\"Unit\"]"
   ]
  }
 ],
 "metadata": {
  "kernelspec": {
   "display_name": "Python 3 (ipykernel)",
   "language": "python",
   "name": "python3"
  },
  "language_info": {
   "codemirror_mode": {
    "name": "ipython",
    "version": 3
   },
   "file_extension": ".py",
   "mimetype": "text/x-python",
   "name": "python",
   "nbconvert_exporter": "python",
   "pygments_lexer": "ipython3",
   "version": "3.11.7"
  }
 },
 "nbformat": 4,
 "nbformat_minor": 5
}
